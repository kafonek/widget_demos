{
 "cells": [
  {
   "cell_type": "code",
   "execution_count": 2,
   "metadata": {
    "collapsed": true,
    "deletable": true,
    "editable": true
   },
   "outputs": [],
   "source": [
    "from traitlets import HasTraits, Int, List, observe"
   ]
  },
  {
   "cell_type": "code",
   "execution_count": 3,
   "metadata": {
    "collapsed": false,
    "deletable": true,
    "editable": true
   },
   "outputs": [],
   "source": [
    "class Foo(HasTraits):\n",
    "    i = Int()\n",
    "    \n",
    "    @observe('i')\n",
    "    def _observe_i(self, change):\n",
    "        print(change)\n",
    "\n",
    "f = Foo()"
   ]
  },
  {
   "cell_type": "code",
   "execution_count": 4,
   "metadata": {
    "collapsed": false
   },
   "outputs": [
    {
     "data": {
      "text/plain": [
       "{'i': <traitlets.traitlets.Int at 0x27417b236d8>}"
      ]
     },
     "execution_count": 4,
     "metadata": {},
     "output_type": "execute_result"
    }
   ],
   "source": [
    "f.traits()"
   ]
  },
  {
   "cell_type": "code",
   "execution_count": 13,
   "metadata": {
    "collapsed": false,
    "deletable": true,
    "editable": true
   },
   "outputs": [
    {
     "data": {
      "text/plain": [
       "<__main__.Foo at 0x1de6c8d9b70>"
      ]
     },
     "execution_count": 13,
     "metadata": {},
     "output_type": "execute_result"
    }
   ],
   "source": [
    "f"
   ]
  },
  {
   "cell_type": "code",
   "execution_count": 14,
   "metadata": {
    "collapsed": false,
    "deletable": true,
    "editable": true
   },
   "outputs": [
    {
     "data": {
      "text/plain": [
       "0"
      ]
     },
     "execution_count": 14,
     "metadata": {},
     "output_type": "execute_result"
    }
   ],
   "source": [
    "f.i"
   ]
  },
  {
   "cell_type": "code",
   "execution_count": 15,
   "metadata": {
    "collapsed": false,
    "deletable": true,
    "editable": true
   },
   "outputs": [
    {
     "name": "stdout",
     "output_type": "stream",
     "text": [
      "{'name': 'i', 'old': 0, 'new': 3, 'owner': <__main__.Foo object at 0x000001DE6C8D9B70>, 'type': 'change'}\n"
     ]
    }
   ],
   "source": [
    "f.i = 3"
   ]
  },
  {
   "cell_type": "code",
   "execution_count": 16,
   "metadata": {
    "collapsed": false,
    "deletable": true,
    "editable": true
   },
   "outputs": [
    {
     "name": "stdout",
     "output_type": "stream",
     "text": [
      "{'name': 'i', 'old': 3, 'new': 0, 'owner': <__main__.Foo object at 0x000001DE6C8D9B70>, 'type': 'change'}\n",
      "{'name': 'i', 'old': 0, 'new': 1, 'owner': <__main__.Foo object at 0x000001DE6C8D9B70>, 'type': 'change'}\n",
      "{'name': 'i', 'old': 1, 'new': 2, 'owner': <__main__.Foo object at 0x000001DE6C8D9B70>, 'type': 'change'}\n",
      "{'name': 'i', 'old': 2, 'new': 3, 'owner': <__main__.Foo object at 0x000001DE6C8D9B70>, 'type': 'change'}\n",
      "{'name': 'i', 'old': 3, 'new': 4, 'owner': <__main__.Foo object at 0x000001DE6C8D9B70>, 'type': 'change'}\n"
     ]
    }
   ],
   "source": [
    "import time\n"
   ]
  },
  {
   "cell_type": "code",
   "execution_count": 5,
   "metadata": {
    "collapsed": false,
    "deletable": true,
    "editable": true
   },
   "outputs": [
    {
     "data": {
      "application/vnd.jupyter.widget-view+json": {
       "model_id": "c3e171c2a8544c54b55dedae00c4a01d",
       "version_major": 2,
       "version_minor": 0
      },
      "text/html": [
       "<p>Failed to display Jupyter Widget of type <code>Dropdown</code>.</p>\n",
       "<p>\n",
       "  If you're reading this message in the Jupyter Notebook or JupyterLab Notebook, it may mean\n",
       "  that the widgets JavaScript is still loading. If this message persists, it\n",
       "  likely means that the widgets JavaScript library is either not installed or\n",
       "  not enabled. See the <a href=\"https://ipywidgets.readthedocs.io/en/stable/user_install.html\">Jupyter\n",
       "  Widgets Documentation</a> for setup instructions.\n",
       "</p>\n",
       "<p>\n",
       "  If you're reading this message in another frontend (for example, a static\n",
       "  rendering on GitHub or <a href=\"https://nbviewer.jupyter.org/\">NBViewer</a>),\n",
       "  it may mean that your frontend doesn't currently support widgets.\n",
       "</p>\n"
      ],
      "text/plain": [
       "Dropdown(options=('', 'foo', 'bar', 'baz'), value='')"
      ]
     },
     "metadata": {},
     "output_type": "display_data"
    }
   ],
   "source": [
    "import ipywidgets as widgets\n",
    "\n",
    "w = widgets.Dropdown(options=['', 'foo', 'bar', 'baz'])\n",
    "w"
   ]
  },
  {
   "cell_type": "code",
   "execution_count": 6,
   "metadata": {
    "collapsed": false,
    "deletable": true,
    "editable": true
   },
   "outputs": [
    {
     "data": {
      "application/vnd.jupyter.widget-view+json": {
       "model_id": "c2c2823f921546bebe61784ad91e9eaf",
       "version_major": 2,
       "version_minor": 0
      },
      "text/html": [
       "<p>Failed to display Jupyter Widget of type <code>Output</code>.</p>\n",
       "<p>\n",
       "  If you're reading this message in the Jupyter Notebook or JupyterLab Notebook, it may mean\n",
       "  that the widgets JavaScript is still loading. If this message persists, it\n",
       "  likely means that the widgets JavaScript library is either not installed or\n",
       "  not enabled. See the <a href=\"https://ipywidgets.readthedocs.io/en/stable/user_install.html\">Jupyter\n",
       "  Widgets Documentation</a> for setup instructions.\n",
       "</p>\n",
       "<p>\n",
       "  If you're reading this message in another frontend (for example, a static\n",
       "  rendering on GitHub or <a href=\"https://nbviewer.jupyter.org/\">NBViewer</a>),\n",
       "  it may mean that your frontend doesn't currently support widgets.\n",
       "</p>\n"
      ],
      "text/plain": [
       "Output()"
      ]
     },
     "metadata": {},
     "output_type": "display_data"
    }
   ],
   "source": [
    "o = widgets.Output()\n",
    "o"
   ]
  },
  {
   "cell_type": "code",
   "execution_count": 7,
   "metadata": {
    "collapsed": true,
    "deletable": true,
    "editable": true
   },
   "outputs": [],
   "source": [
    "def on_change(change):\n",
    "    with o:\n",
    "        print(change)\n",
    "    \n",
    "w.observe(on_change, 'value')"
   ]
  },
  {
   "cell_type": "code",
   "execution_count": 8,
   "metadata": {
    "collapsed": false,
    "deletable": true,
    "editable": true
   },
   "outputs": [
    {
     "data": {
      "text/plain": [
       "{'_display_callbacks': <traitlets.traitlets.Instance at 0x274179df208>,\n",
       " '_dom_classes': <traitlets.traitlets.Tuple at 0x274179d74e0>,\n",
       " '_model_module': <traitlets.traitlets.Unicode at 0x27417a16c50>,\n",
       " '_model_module_version': <traitlets.traitlets.Unicode at 0x27417a16cf8>,\n",
       " '_model_name': <traitlets.traitlets.Unicode at 0x27417a657f0>,\n",
       " '_msg_callbacks': <traitlets.traitlets.Instance at 0x274179dff98>,\n",
       " '_options_labels': <traitlets.traitlets.Tuple at 0x27417a5eac8>,\n",
       " '_property_lock': <traitlets.traitlets.Dict at 0x274179df978>,\n",
       " '_states_to_send': <traitlets.traitlets.Set at 0x274179df1d0>,\n",
       " '_view_count': <traitlets.traitlets.Int at 0x274179e3080>,\n",
       " '_view_module': <traitlets.traitlets.Unicode at 0x27417a16d30>,\n",
       " '_view_module_version': <traitlets.traitlets.Unicode at 0x27417a16d68>,\n",
       " '_view_name': <traitlets.traitlets.Unicode at 0x27417a657b8>,\n",
       " 'comm': <traitlets.traitlets.Instance at 0x274179e30f0>,\n",
       " 'description': <traitlets.traitlets.Unicode at 0x27417a21710>,\n",
       " 'disabled': <traitlets.traitlets.Bool at 0x27417a5eb00>,\n",
       " 'index': <traitlets.traitlets.Int at 0x27417a5ea58>,\n",
       " 'keys': <traitlets.traitlets.List at 0x274179e3128>,\n",
       " 'label': <traitlets.traitlets.Unicode at 0x27417a5ea20>,\n",
       " 'layout': <ipywidgets.widgets.trait_types.InstanceDict at 0x274179d7048>,\n",
       " 'log': <traitlets.traitlets.Instance at 0x27417a00f98>,\n",
       " 'options': <traitlets.traitlets.Any at 0x27417a5ea90>,\n",
       " 'style': <ipywidgets.widgets.trait_types.InstanceDict at 0x27417a21748>,\n",
       " 'value': <traitlets.traitlets.Any at 0x27417a5e9e8>}"
      ]
     },
     "execution_count": 8,
     "metadata": {},
     "output_type": "execute_result"
    }
   ],
   "source": [
    "w.traits()"
   ]
  },
  {
   "cell_type": "code",
   "execution_count": null,
   "metadata": {
    "collapsed": true
   },
   "outputs": [],
   "source": []
  }
 ],
 "metadata": {
  "kernelspec": {
   "display_name": "Python3.6",
   "language": "python",
   "name": "py36"
  },
  "language_info": {
   "codemirror_mode": {
    "name": "ipython",
    "version": 3
   },
   "file_extension": ".py",
   "mimetype": "text/x-python",
   "name": "python",
   "nbconvert_exporter": "python",
   "pygments_lexer": "ipython3",
   "version": "3.6.2"
  }
 },
 "nbformat": 4,
 "nbformat_minor": 2
}
