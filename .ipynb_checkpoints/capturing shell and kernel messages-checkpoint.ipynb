{
 "cells": [
  {
   "cell_type": "code",
   "execution_count": 1,
   "metadata": {
    "collapsed": false,
    "deletable": true,
    "editable": true
   },
   "outputs": [
    {
     "data": {
      "text/plain": [
       "(<ipykernel.zmqshell.ZMQInteractiveShell at 0x19490b94eb8>,\n",
       " <ipykernel.ipkernel.IPythonKernel at 0x19490bbf278>)"
      ]
     },
     "execution_count": 1,
     "metadata": {},
     "output_type": "execute_result"
    }
   ],
   "source": [
    "shell = get_ipython()\n",
    "kernel = shell.kernel\n",
    "shell, kernel"
   ]
  },
  {
   "cell_type": "code",
   "execution_count": 2,
   "metadata": {
    "collapsed": false
   },
   "outputs": [
    {
     "name": "stdout",
     "output_type": "stream",
     "text": [
      "checking whether any new messages have been sent to the IPython kernel\n",
      "checking whether any new messages have been sent to the IPython kernel\n",
      "{'header': {'username': 'username', 'msg_type': 'execute_request', 'msg_id': 'E172A1A7A0E042A28C7C31BE4BA2F3D5', 'version': '5.0', 'session': '73396AD10A0C49F98C0A064BFACF4C8A', 'date': datetime.datetime(2018, 2, 19, 17, 26, 58, 39000, tzinfo=tzlocal())}, 'msg_id': 'E172A1A7A0E042A28C7C31BE4BA2F3D5', 'msg_type': 'execute_request', 'parent_header': {}, 'metadata': {}, 'content': {'store_history': True, 'silent': False, 'stop_on_error': True, 'code': \"print('hello world')\", 'user_expressions': {}, 'allow_stdin': True}, 'buffers': []}\n"
     ]
    }
   ],
   "source": [
    "existing_msgs = []\n",
    "\n",
    "import time\n",
    "import zmq\n",
    "\n",
    "def get_messages(stream):\n",
    "    poller = zmq.Poller()\n",
    "    poller.register(stream.socket, zmq.POLLIN)\n",
    "    while True:\n",
    "        ident, msg = kernel.session.recv(stream, zmq.NOBLOCK, content=True)\n",
    "        if msg is None:\n",
    "            return\n",
    "        existing_msgs.append((stream, ident, msg))\n",
    "\n",
    "while True:\n",
    "    print(\"checking whether any new messages have been sent to the IPython kernel\")\n",
    "    time.sleep(2)\n",
    "    \n",
    "    for stream in kernel.shell_streams:\n",
    "        if stream:\n",
    "            get_messages(stream)\n",
    "            \n",
    "    if existing_msgs:\n",
    "        break\n",
    "        \n",
    "for stream, idents, msg in existing_msgs:\n",
    "    print(msg)"
   ]
  },
  {
   "cell_type": "code",
   "execution_count": null,
   "metadata": {
    "collapsed": false
   },
   "outputs": [],
   "source": [
    "print('hello world')"
   ]
  },
  {
   "cell_type": "code",
   "execution_count": null,
   "metadata": {
    "collapsed": true
   },
   "outputs": [],
   "source": [
    "x = 1\n",
    "y = 2\n",
    "x + y"
   ]
  },
  {
   "cell_type": "code",
   "execution_count": null,
   "metadata": {
    "collapsed": true
   },
   "outputs": [],
   "source": [
    "for stream, idents, msg in existing_msgs:\n",
    "    #msg['content']['store_history'] = False\n",
    "    print(msg)\n",
    "    kernel.set_parent(idents, msg)\n",
    "    kernel._publish_status(u'busy')\n",
    "    header = msg['header']\n",
    "    msg_type = header['msg_type']\n",
    "\n",
    "    handler = kernel.control_handlers.get(msg_type, None)    \n",
    "    handler(kernel.control_stream, idents, msg)\n",
    "    #kernel.dispatch_control(msg)\n",
    "    #kernel.execute_request(stream, ident, msg)\n",
    "    #kernel.dispatch_shell(stream, msg)"
   ]
  },
  {
   "cell_type": "code",
   "execution_count": null,
   "metadata": {
    "collapsed": false
   },
   "outputs": [],
   "source": [
    "import ipywidgets as widgets\n",
    "w = widgets.Dropdown(options=['', 'foo', 'bar', 'baz'])\n",
    "w"
   ]
  },
  {
   "cell_type": "code",
   "execution_count": null,
   "metadata": {
    "collapsed": true
   },
   "outputs": [],
   "source": []
  }
 ],
 "metadata": {
  "kernelspec": {
   "display_name": "Python3.6",
   "language": "python",
   "name": "py36"
  },
  "language_info": {
   "codemirror_mode": {
    "name": "ipython",
    "version": 3
   },
   "file_extension": ".py",
   "mimetype": "text/x-python",
   "name": "python",
   "nbconvert_exporter": "python",
   "pygments_lexer": "ipython3",
   "version": "3.6.2"
  }
 },
 "nbformat": 4,
 "nbformat_minor": 2
}
