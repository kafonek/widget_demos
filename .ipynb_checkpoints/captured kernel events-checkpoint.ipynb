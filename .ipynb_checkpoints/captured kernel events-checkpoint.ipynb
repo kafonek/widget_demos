{
 "cells": [
  {
   "cell_type": "code",
   "execution_count": 1,
   "metadata": {
    "collapsed": true
   },
   "outputs": [],
   "source": [
    "### Run this notebook using cell -> run all\n",
    "### Demo of one solution to 'blocking' until a widget value has changed"
   ]
  },
  {
   "cell_type": "code",
   "execution_count": 2,
   "metadata": {
    "collapsed": false,
    "deletable": true,
    "editable": true
   },
   "outputs": [
    {
     "data": {
      "text/plain": [
       "<ipykernel.zmqshell.ZMQInteractiveShell at 0x1e5492845c0>"
      ]
     },
     "execution_count": 2,
     "metadata": {},
     "output_type": "execute_result"
    }
   ],
   "source": [
    "shell = get_ipython()\n",
    "shell"
   ]
  },
  {
   "cell_type": "code",
   "execution_count": 3,
   "metadata": {
    "collapsed": false,
    "deletable": true,
    "editable": true
   },
   "outputs": [
    {
     "data": {
      "text/plain": [
       "<ipykernel.ipkernel.IPythonKernel at 0x1e549284278>"
      ]
     },
     "execution_count": 3,
     "metadata": {},
     "output_type": "execute_result"
    }
   ],
   "source": [
    "kernel = shell.kernel\n",
    "kernel"
   ]
  },
  {
   "cell_type": "code",
   "execution_count": 4,
   "metadata": {
    "collapsed": true,
    "deletable": true,
    "editable": true
   },
   "outputs": [],
   "source": [
    "captured_events = []\n",
    "\n",
    "def execute_request(stream, ident, parent):\n",
    "    \"Overwrite function to store the stream / ident /parent instead of calling kernel.execute_request\"\n",
    "    captured_events.append((stream, ident, parent))\n",
    "    \n",
    "def comm_msg(stream, ident, parent):\n",
    "    \"Overwrite function to add a logging (print) msg when comm_msg events come through\"\n",
    "    print(\"in comm_msg\")\n",
    "    return kernel.comm_manager.comm_msg(stream, ident, parent)\n",
    "    \n",
    "def start_capturing():\n",
    "    \"Overwrite the kernel shell handlers\"\n",
    "    kernel.shell_handlers['execute_request'] = execute_request\n",
    "    kernel.shell_handlers['comm_msg'] = comm_msg\n",
    "    \n",
    "def stop_capturing():\n",
    "    \"rever the kernel shell handler functions to their defaults\"\n",
    "    kernel.shell_handlers['execute_request'] = kernel.execute_request\n",
    "    kernel.shell_handlers['comm_msg'] = kernel.comm_manager.comm_msg"
   ]
  },
  {
   "cell_type": "code",
   "execution_count": 7,
   "metadata": {
    "collapsed": false,
    "deletable": true,
    "editable": true
   },
   "outputs": [
    {
     "data": {
      "application/vnd.jupyter.widget-view+json": {
       "model_id": "082d1c29b8d241c08578013555e777b7",
       "version_major": 2,
       "version_minor": 0
      },
      "text/html": [
       "<p>Failed to display Jupyter Widget of type <code>Dropdown</code>.</p>\n",
       "<p>\n",
       "  If you're reading this message in the Jupyter Notebook or JupyterLab Notebook, it may mean\n",
       "  that the widgets JavaScript is still loading. If this message persists, it\n",
       "  likely means that the widgets JavaScript library is either not installed or\n",
       "  not enabled. See the <a href=\"https://ipywidgets.readthedocs.io/en/stable/user_install.html\">Jupyter\n",
       "  Widgets Documentation</a> for setup instructions.\n",
       "</p>\n",
       "<p>\n",
       "  If you're reading this message in another frontend (for example, a static\n",
       "  rendering on GitHub or <a href=\"https://nbviewer.jupyter.org/\">NBViewer</a>),\n",
       "  it may mean that your frontend doesn't currently support widgets.\n",
       "</p>\n"
      ],
      "text/plain": [
       "Dropdown(options=('', 'foo', 'bar'), value='')"
      ]
     },
     "metadata": {},
     "output_type": "display_data"
    },
    {
     "name": "stdout",
     "output_type": "stream",
     "text": [
      "in comm_msg\n",
      "widget value changed: breaking from loop\n",
      "foo\n",
      "ERROR! Session/line number was not unique in database. History logging moved to new session 256\n",
      "hello world\n"
     ]
    }
   ],
   "source": [
    "# Display a widget and 'block' (don't run execute_request messages) until the widget has changed value\n",
    "import ipywidgets as widgets\n",
    "from IPython.display import display\n",
    "import time\n",
    "import zmq\n",
    "\n",
    "w = widgets.Dropdown(options=['', 'foo', 'bar'])\n",
    "\n",
    "start_capturing() # override kernel.shell_handler functions\n",
    "display(w) \n",
    "while True:\n",
    "    # While this loop is running, all further 'execute_request' messages will get captured\n",
    "    if w.value:\n",
    "        print(\"widget value changed: breaking from loop\")\n",
    "        break # user changed the value\n",
    "    \n",
    "    kernel.do_one_iteration() # same thing an eventloop like %gui asyncio would do\n",
    "    time.sleep(.01)\n",
    "\n",
    "stop_capturing()\n",
    "\n",
    "### Once the widget value has changed, 'replay' the captured execute_request messages\n",
    "### Unfortunately the output shows up in this cell, not in the cells where the\n",
    "### original input code is at...\n",
    "for stream, ident, parent in captured_events:\n",
    "    kernel.execute_request(stream, ident, parent)"
   ]
  },
  {
   "cell_type": "code",
   "execution_count": 5,
   "metadata": {
    "collapsed": false,
    "deletable": true,
    "editable": true
   },
   "outputs": [],
   "source": [
    "# this should get captured in a cell -> run all (last cell is still running/widget value hasn't changed yet)\n",
    "print(w.value)"
   ]
  },
  {
   "cell_type": "code",
   "execution_count": 6,
   "metadata": {
    "collapsed": false,
    "deletable": true,
    "editable": true
   },
   "outputs": [],
   "source": [
    "# this should get captured in a cell -> run all \n",
    "print(\"hello world\")"
   ]
  },
  {
   "cell_type": "code",
   "execution_count": null,
   "metadata": {
    "collapsed": true,
    "deletable": true,
    "editable": true
   },
   "outputs": [],
   "source": []
  }
 ],
 "metadata": {
  "kernelspec": {
   "display_name": "Python3.6",
   "language": "python",
   "name": "py36"
  },
  "language_info": {
   "codemirror_mode": {
    "name": "ipython",
    "version": 3
   },
   "file_extension": ".py",
   "mimetype": "text/x-python",
   "name": "python",
   "nbconvert_exporter": "python",
   "pygments_lexer": "ipython3",
   "version": "3.6.2"
  }
 },
 "nbformat": 4,
 "nbformat_minor": 2
}
