{
 "cells": [
  {
   "cell_type": "code",
   "execution_count": 5,
   "metadata": {
    "collapsed": true
   },
   "outputs": [],
   "source": [
    "recs = [{'sid' : 'makarma', 'value' : 'foo'},\n",
    "        {'sid' : 'mrkafon', 'value' : 'bar'},\n",
    "        {'sid' : 'cbthom2', 'value' : 'meme'},\n",
    "        {'sid' : 'jlmoor7', 'value' : 'foo'}]"
   ]
  },
  {
   "cell_type": "code",
   "execution_count": 6,
   "metadata": {
    "collapsed": false
   },
   "outputs": [
    {
     "data": {
      "text/html": [
       "<div>\n",
       "<style scoped>\n",
       "    .dataframe tbody tr th:only-of-type {\n",
       "        vertical-align: middle;\n",
       "    }\n",
       "\n",
       "    .dataframe tbody tr th {\n",
       "        vertical-align: top;\n",
       "    }\n",
       "\n",
       "    .dataframe thead th {\n",
       "        text-align: right;\n",
       "    }\n",
       "</style>\n",
       "<table border=\"1\" class=\"dataframe\">\n",
       "  <thead>\n",
       "    <tr style=\"text-align: right;\">\n",
       "      <th></th>\n",
       "      <th>sid</th>\n",
       "      <th>value</th>\n",
       "    </tr>\n",
       "  </thead>\n",
       "  <tbody>\n",
       "    <tr>\n",
       "      <th>0</th>\n",
       "      <td>makarma</td>\n",
       "      <td>foo</td>\n",
       "    </tr>\n",
       "    <tr>\n",
       "      <th>1</th>\n",
       "      <td>mrkafon</td>\n",
       "      <td>bar</td>\n",
       "    </tr>\n",
       "    <tr>\n",
       "      <th>2</th>\n",
       "      <td>cbthom2</td>\n",
       "      <td>meme</td>\n",
       "    </tr>\n",
       "    <tr>\n",
       "      <th>3</th>\n",
       "      <td>jlmoor7</td>\n",
       "      <td>foo</td>\n",
       "    </tr>\n",
       "  </tbody>\n",
       "</table>\n",
       "</div>"
      ],
      "text/plain": [
       "       sid value\n",
       "0  makarma   foo\n",
       "1  mrkafon   bar\n",
       "2  cbthom2  meme\n",
       "3  jlmoor7   foo"
      ]
     },
     "execution_count": 6,
     "metadata": {},
     "output_type": "execute_result"
    }
   ],
   "source": [
    "import pandas\n",
    "df = pandas.DataFrame(recs)\n",
    "df"
   ]
  },
  {
   "cell_type": "code",
   "execution_count": 10,
   "metadata": {
    "collapsed": true
   },
   "outputs": [],
   "source": [
    "def highlight_foo(val):\n",
    "    if val == 'foo':\n",
    "        return 'color: blue'\n",
    "    else:\n",
    "        return 'color: black'"
   ]
  },
  {
   "cell_type": "code",
   "execution_count": 11,
   "metadata": {
    "collapsed": false
   },
   "outputs": [
    {
     "data": {
      "text/html": [
       "<style  type=\"text/css\" >\n",
       "    #T_810a5f18_12cb_11e8_96c1_d8cb8a6e5b55row0_col0 {\n",
       "            color:  black;\n",
       "        }    #T_810a5f18_12cb_11e8_96c1_d8cb8a6e5b55row0_col1 {\n",
       "            color:  blue;\n",
       "        }    #T_810a5f18_12cb_11e8_96c1_d8cb8a6e5b55row1_col0 {\n",
       "            color:  black;\n",
       "        }    #T_810a5f18_12cb_11e8_96c1_d8cb8a6e5b55row1_col1 {\n",
       "            color:  black;\n",
       "        }    #T_810a5f18_12cb_11e8_96c1_d8cb8a6e5b55row2_col0 {\n",
       "            color:  black;\n",
       "        }    #T_810a5f18_12cb_11e8_96c1_d8cb8a6e5b55row2_col1 {\n",
       "            color:  black;\n",
       "        }    #T_810a5f18_12cb_11e8_96c1_d8cb8a6e5b55row3_col0 {\n",
       "            color:  black;\n",
       "        }    #T_810a5f18_12cb_11e8_96c1_d8cb8a6e5b55row3_col1 {\n",
       "            color:  blue;\n",
       "        }</style>  \n",
       "<table id=\"T_810a5f18_12cb_11e8_96c1_d8cb8a6e5b55\" > \n",
       "<thead>    <tr> \n",
       "        <th class=\"blank level0\" ></th> \n",
       "        <th class=\"col_heading level0 col0\" >sid</th> \n",
       "        <th class=\"col_heading level0 col1\" >value</th> \n",
       "    </tr></thead> \n",
       "<tbody>    <tr> \n",
       "        <th id=\"T_810a5f18_12cb_11e8_96c1_d8cb8a6e5b55level0_row0\" class=\"row_heading level0 row0\" >0</th> \n",
       "        <td id=\"T_810a5f18_12cb_11e8_96c1_d8cb8a6e5b55row0_col0\" class=\"data row0 col0\" >makarma</td> \n",
       "        <td id=\"T_810a5f18_12cb_11e8_96c1_d8cb8a6e5b55row0_col1\" class=\"data row0 col1\" >foo</td> \n",
       "    </tr>    <tr> \n",
       "        <th id=\"T_810a5f18_12cb_11e8_96c1_d8cb8a6e5b55level0_row1\" class=\"row_heading level0 row1\" >1</th> \n",
       "        <td id=\"T_810a5f18_12cb_11e8_96c1_d8cb8a6e5b55row1_col0\" class=\"data row1 col0\" >mrkafon</td> \n",
       "        <td id=\"T_810a5f18_12cb_11e8_96c1_d8cb8a6e5b55row1_col1\" class=\"data row1 col1\" >bar</td> \n",
       "    </tr>    <tr> \n",
       "        <th id=\"T_810a5f18_12cb_11e8_96c1_d8cb8a6e5b55level0_row2\" class=\"row_heading level0 row2\" >2</th> \n",
       "        <td id=\"T_810a5f18_12cb_11e8_96c1_d8cb8a6e5b55row2_col0\" class=\"data row2 col0\" >cbthom2</td> \n",
       "        <td id=\"T_810a5f18_12cb_11e8_96c1_d8cb8a6e5b55row2_col1\" class=\"data row2 col1\" >meme</td> \n",
       "    </tr>    <tr> \n",
       "        <th id=\"T_810a5f18_12cb_11e8_96c1_d8cb8a6e5b55level0_row3\" class=\"row_heading level0 row3\" >3</th> \n",
       "        <td id=\"T_810a5f18_12cb_11e8_96c1_d8cb8a6e5b55row3_col0\" class=\"data row3 col0\" >jlmoor7</td> \n",
       "        <td id=\"T_810a5f18_12cb_11e8_96c1_d8cb8a6e5b55row3_col1\" class=\"data row3 col1\" >foo</td> \n",
       "    </tr></tbody> \n",
       "</table> "
      ],
      "text/plain": [
       "<pandas.io.formats.style.Styler at 0x2845873ee48>"
      ]
     },
     "execution_count": 11,
     "metadata": {},
     "output_type": "execute_result"
    }
   ],
   "source": [
    "df.style.applymap(highlight_foo)"
   ]
  },
  {
   "cell_type": "code",
   "execution_count": null,
   "metadata": {
    "collapsed": true
   },
   "outputs": [],
   "source": []
  }
 ],
 "metadata": {
  "kernelspec": {
   "display_name": "Python3.6",
   "language": "python",
   "name": "py36"
  },
  "language_info": {
   "codemirror_mode": {
    "name": "ipython",
    "version": 3
   },
   "file_extension": ".py",
   "mimetype": "text/x-python",
   "name": "python",
   "nbconvert_exporter": "python",
   "pygments_lexer": "ipython3",
   "version": "3.6.2"
  }
 },
 "nbformat": 4,
 "nbformat_minor": 2
}
