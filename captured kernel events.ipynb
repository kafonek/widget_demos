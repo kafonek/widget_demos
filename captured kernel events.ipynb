{
 "cells": [
  {
   "cell_type": "code",
   "execution_count": 6,
   "metadata": {
    "collapsed": false,
    "deletable": true,
    "editable": true
   },
   "outputs": [
    {
     "data": {
      "text/plain": [
       "<ipykernel.zmqshell.ZMQInteractiveShell at 0x16a55cf45c0>"
      ]
     },
     "execution_count": 6,
     "metadata": {},
     "output_type": "execute_result"
    }
   ],
   "source": [
    "shell = get_ipython()\n",
    "shell"
   ]
  },
  {
   "cell_type": "code",
   "execution_count": 7,
   "metadata": {
    "collapsed": false,
    "deletable": true,
    "editable": true
   },
   "outputs": [
    {
     "data": {
      "text/plain": [
       "<ipykernel.ipkernel.IPythonKernel at 0x16a55cf4208>"
      ]
     },
     "execution_count": 7,
     "metadata": {},
     "output_type": "execute_result"
    }
   ],
   "source": [
    "kernel = shell.kernel\n",
    "kernel"
   ]
  },
  {
   "cell_type": "code",
   "execution_count": 8,
   "metadata": {
    "collapsed": true,
    "deletable": true,
    "editable": true
   },
   "outputs": [],
   "source": [
    "captured_events = []\n",
    "\n",
    "def execute_request(stream, ident, parent):\n",
    "    \"Overwrite function to store the stream / ident /parent instead of calling kernel.execute_request\"\n",
    "    captured_events.append((stream, ident, parent))\n",
    "    \n",
    "def comm_msg(stream, ident, parent):\n",
    "    \"Overwrite function to add a logging (print) msg when comm_msg events come through\"\n",
    "    print(\"in comm_msg\")\n",
    "    return kernel.comm_manager.comm_msg(stream, ident, parent)\n",
    "    \n",
    "def start_capturing():\n",
    "    \"Overwrite the kernel shell handlers\"\n",
    "    kernel.shell_handlers['execute_request'] = execute_request\n",
    "    kernel.shell_handlers['comm_msg'] = comm_msg\n",
    "    \n",
    "def stop_capturing():\n",
    "    \"rever the kernel shell handler functions to their defaults\"\n",
    "    kernel.shell_handlers['execute_request'] = kernel.execute_request\n",
    "    kernel.shell_handlers['comm_msg'] = kernel.comm_manager.comm_msg"
   ]
  },
  {
   "cell_type": "code",
   "execution_count": 9,
   "metadata": {
    "collapsed": false,
    "deletable": true,
    "editable": true
   },
   "outputs": [
    {
     "data": {
      "application/vnd.jupyter.widget-view+json": {
       "model_id": "df56dba4e75342b0a3fe89b2eafb747a",
       "version_major": 2,
       "version_minor": 0
      },
      "text/html": [
       "<p>Failed to display Jupyter Widget of type <code>Dropdown</code>.</p>\n",
       "<p>\n",
       "  If you're reading this message in the Jupyter Notebook or JupyterLab Notebook, it may mean\n",
       "  that the widgets JavaScript is still loading. If this message persists, it\n",
       "  likely means that the widgets JavaScript library is either not installed or\n",
       "  not enabled. See the <a href=\"https://ipywidgets.readthedocs.io/en/stable/user_install.html\">Jupyter\n",
       "  Widgets Documentation</a> for setup instructions.\n",
       "</p>\n",
       "<p>\n",
       "  If you're reading this message in another frontend (for example, a static\n",
       "  rendering on GitHub or <a href=\"https://nbviewer.jupyter.org/\">NBViewer</a>),\n",
       "  it may mean that your frontend doesn't currently support widgets.\n",
       "</p>\n"
      ],
      "text/plain": [
       "Dropdown(options=('', 'foo', 'bar'), value='')"
      ]
     },
     "metadata": {},
     "output_type": "display_data"
    },
    {
     "name": "stdout",
     "output_type": "stream",
     "text": [
      "in comm_msg\n",
      "widget value changed: breaking from loop\n"
     ]
    }
   ],
   "source": [
    "import ipywidgets as widgets\n",
    "from IPython.display import display\n",
    "import time\n",
    "import zmq\n",
    "\n",
    "w = widgets.Dropdown(options=['', 'foo', 'bar'])\n",
    "\n",
    "start_capturing()\n",
    "display(w)\n",
    "while True:\n",
    "    if w.value:\n",
    "        print(\"widget value changed: breaking from loop\")\n",
    "        break # user changed the value\n",
    "    \n",
    "    for stream in kernel.shell_streams:\n",
    "        stream.flush(zmq.POLLIN, 1)\n",
    "        stream.flush(zmq.POLLOUT)\n",
    "        \n",
    "    time.sleep(.01)\n",
    "\n",
    "stop_capturing()"
   ]
  },
  {
   "cell_type": "code",
   "execution_count": null,
   "metadata": {
    "collapsed": false,
    "deletable": true,
    "editable": true
   },
   "outputs": [],
   "source": [
    "print(w.value)"
   ]
  },
  {
   "cell_type": "code",
   "execution_count": null,
   "metadata": {
    "collapsed": false,
    "deletable": true,
    "editable": true
   },
   "outputs": [],
   "source": [
    "print(\"hello world\")"
   ]
  },
  {
   "cell_type": "code",
   "execution_count": 10,
   "metadata": {
    "collapsed": false,
    "deletable": true,
    "editable": true
   },
   "outputs": [
    {
     "data": {
      "text/plain": [
       "[(<zmq.eventloop.zmqstream.ZMQStream at 0x16a55cf4748>,\n",
       "  [b'E4EEF76C98104DCA95D0F6471CBC9608'],\n",
       "  {'buffers': [],\n",
       "   'content': {'allow_stdin': True,\n",
       "    'code': 'print(w.value)',\n",
       "    'silent': False,\n",
       "    'stop_on_error': True,\n",
       "    'store_history': True,\n",
       "    'user_expressions': {}},\n",
       "   'header': {'date': datetime.datetime(2018, 2, 23, 18, 11, 27, 402000, tzinfo=tzlocal()),\n",
       "    'msg_id': '37C469434663406A8C0A3C440638D60F',\n",
       "    'msg_type': 'execute_request',\n",
       "    'session': 'E4EEF76C98104DCA95D0F6471CBC9608',\n",
       "    'username': 'username',\n",
       "    'version': '5.0'},\n",
       "   'metadata': {},\n",
       "   'msg_id': '37C469434663406A8C0A3C440638D60F',\n",
       "   'msg_type': 'execute_request',\n",
       "   'parent_header': {}}),\n",
       " (<zmq.eventloop.zmqstream.ZMQStream at 0x16a55cf4748>,\n",
       "  [b'E4EEF76C98104DCA95D0F6471CBC9608'],\n",
       "  {'buffers': [],\n",
       "   'content': {'allow_stdin': True,\n",
       "    'code': 'print(\"hello world\")',\n",
       "    'silent': False,\n",
       "    'stop_on_error': True,\n",
       "    'store_history': True,\n",
       "    'user_expressions': {}},\n",
       "   'header': {'date': datetime.datetime(2018, 2, 23, 18, 11, 28, 218000, tzinfo=tzlocal()),\n",
       "    'msg_id': '0DC51AFF285F41438CEB4122109099CB',\n",
       "    'msg_type': 'execute_request',\n",
       "    'session': 'E4EEF76C98104DCA95D0F6471CBC9608',\n",
       "    'username': 'username',\n",
       "    'version': '5.0'},\n",
       "   'metadata': {},\n",
       "   'msg_id': '0DC51AFF285F41438CEB4122109099CB',\n",
       "   'msg_type': 'execute_request',\n",
       "   'parent_header': {}})]"
      ]
     },
     "execution_count": 10,
     "metadata": {},
     "output_type": "execute_result"
    }
   ],
   "source": [
    "captured_events"
   ]
  },
  {
   "cell_type": "code",
   "execution_count": null,
   "metadata": {
    "collapsed": true,
    "deletable": true,
    "editable": true
   },
   "outputs": [],
   "source": []
  }
 ],
 "metadata": {
  "kernelspec": {
   "display_name": "Python3.6",
   "language": "python",
   "name": "py36"
  },
  "language_info": {
   "codemirror_mode": {
    "name": "ipython",
    "version": 3
   },
   "file_extension": ".py",
   "mimetype": "text/x-python",
   "name": "python",
   "nbconvert_exporter": "python",
   "pygments_lexer": "ipython3",
   "version": "3.6.2"
  }
 },
 "nbformat": 4,
 "nbformat_minor": 2
}
